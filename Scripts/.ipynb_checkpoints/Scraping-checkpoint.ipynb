{
 "cells": [
  {
   "cell_type": "code",
   "execution_count": null,
   "id": "41a7b44c-3597-4c3b-bff2-c2d4b8f516eb",
   "metadata": {},
   "outputs": [],
   "source": []
  }
 ],
 "metadata": {
  "kernelspec": {
   "display_name": "Python 3 (ipykernel)",
   "language": "python",
   "name": "python3"
  },
  "language_info": {
   "name": ""
  }
 },
 "nbformat": 4,
 "nbformat_minor": 5
}
