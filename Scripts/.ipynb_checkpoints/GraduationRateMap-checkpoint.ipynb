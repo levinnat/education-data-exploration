{
 "cells": [
  {
   "cell_type": "code",
   "execution_count": 198,
   "id": "ee64b254-f18d-4291-977b-939361165efb",
   "metadata": {},
   "outputs": [],
   "source": [
    "import pandas as pd\n",
    "import requests as reqs\n",
    "import plotly.express as px\n",
    "import plotly as plotly"
   ]
  },
  {
   "cell_type": "code",
   "execution_count": 187,
   "id": "ee1c14f6-d452-47bb-8b70-fd8a69ede392",
   "metadata": {},
   "outputs": [],
   "source": [
    "df = pd.read_csv(\"18_19_Graduation_Rates.csv\")\n",
    "state_df = pd.read_csv(\"state_mapping.csv\")"
   ]
  },
  {
   "cell_type": "code",
   "execution_count": 188,
   "id": "509a0bdd-37a1-42d2-8e9d-118ace1396ba",
   "metadata": {},
   "outputs": [],
   "source": [
    "def reformat(rate):\n",
    "    if(rate.startswith('LE') or rate.startswith('LT') or rate.startswith('GE')):\n",
    "        return rate[2:]\n",
    "    if('-' in rate):\n",
    "        return rate[0:rate.index('-')]\n",
    "    return rate"
   ]
  },
  {
   "cell_type": "code",
   "execution_count": 189,
   "id": "b907909a-09a1-4882-ad4b-0de0bed10350",
   "metadata": {},
   "outputs": [],
   "source": [
    "df = df[['STNAM','LEAID','SCHNAM','ALL_RATE_1819']] #only need state name, school district, school name, and graduation rate for now\n",
    "df = df[df.ALL_RATE_1819 != 'PS'] #drop all rows for schools where data was protected"
   ]
  },
  {
   "cell_type": "code",
   "execution_count": 190,
   "id": "3713969b-f2b2-4115-bf90-a0c490c6b9f3",
   "metadata": {},
   "outputs": [
    {
     "name": "stdout",
     "output_type": "stream",
     "text": [
      "         STNAM    LEAID                         SCHNAM ALL_RATE_1819\n",
      "0      ALABAMA   100005        Albertville High School            94\n",
      "1      ALABAMA   100006             Asbury High School            90\n",
      "2      ALABAMA   100006            Douglas High School            90\n",
      "3      ALABAMA   100006   Kate D Smith DAR High School            95\n",
      "4      ALABAMA   100006  Brindlee Mountain High School            85\n",
      "...        ...      ...                            ...           ...\n",
      "22895  WYOMING  5605820                 Ten Sleep K-12            50\n",
      "22896  WYOMING  5605830       Jackson Hole High School            95\n",
      "22897  WYOMING  5605830      Summit Innovations School            80\n",
      "22898  WYOMING  5606090              Upton High School            60\n",
      "22899  WYOMING  5606240            Worland High School            85\n",
      "\n",
      "[21425 rows x 4 columns]\n"
     ]
    }
   ],
   "source": [
    "df['ALL_RATE_1819'] = df['ALL_RATE_1819'].apply(reformat) #remove letters and symbols from graduation rates\n",
    "print(df)"
   ]
  },
  {
   "cell_type": "code",
   "execution_count": null,
   "id": "2f1c8cce-cb93-41ad-a7fa-17fff0567546",
   "metadata": {},
   "outputs": [],
   "source": [
    "response = reqs.get(\"https://nces.ed.gov/opengis/rest/services/K12_School_Locations/EDGE_GEOCODE_PUBLICSCH_1819/MapServer/0/query?where=STATE='WY'&returnGeometry=false&returnIdsOnly=true&outFields=NAME,LOCALE,LAT,LON&f=json\")\n",
    "print(response.json())"
   ]
  },
  {
   "cell_type": "code",
   "execution_count": 141,
   "id": "e33d10d3-ab33-457a-bd1f-14e8433d81bd",
   "metadata": {},
   "outputs": [
    {
     "name": "stdout",
     "output_type": "stream",
     "text": [
      "                                       NAME STATE        LAT        LON LOCALE\n",
      "0                 Albertville Middle School    AL  34.260194 -86.206174    NaN\n",
      "1                   Albertville High School    AL  34.262226 -86.204884    NaN\n",
      "2                   Evans Elementary School    AL  34.273318 -86.220144    NaN\n",
      "3             Albertville Elementary School    AL  34.253251 -86.221834    NaN\n",
      "4       Big Spring Lake Kindergarten School    AL  34.289849 -86.193289    NaN\n",
      "...                                     ...   ...        ...        ...    ...\n",
      "100895                      ROSA C. BENITEZ   NaN  18.213568 -66.044197     13\n",
      "100896                     CHARLES E. MINER   NaN  18.208542 -66.055857     13\n",
      "100897              JUSTINA VAZQUEZ MENDOZA   NaN  18.216539 -66.036440     13\n",
      "100898         ANTONIO S PEDREIRA (PRE-TEC)   NaN  18.214828 -66.041534     13\n",
      "100899                     HAYDEE CABALLERO   NaN  18.214892 -66.053336     13\n",
      "\n",
      "[100900 rows x 5 columns]\n"
     ]
    }
   ],
   "source": [
    "#100901 - last objectID\n",
    "i = 1\n",
    "count_500 = 0\n",
    "objectIds = \"\"\n",
    "results_list = [];\n",
    "while (i<100901):\n",
    "    if(count_500 == 200):\n",
    "        objectIds = objectIds[1:]\n",
    "        request = \"https://nces.ed.gov/opengis/rest/services/K12_School_Locations/EDGE_GEOCODE_PUBLICSCH_1819/MapServer/0/query?objectIds=\"\n",
    "        request += objectIds\n",
    "        request += \"&returnGeometry=false&outFields=NAME,STATE,LAT,LON&f=json\"\n",
    "        response = reqs.get(request)\n",
    "        for x in response.json()['features']:\n",
    "            results_list.append(x['attributes'])\n",
    "        objectIds = \"\"\n",
    "        count_500 = 0\n",
    "    else:\n",
    "        objectIds = objectIds + \",\" +str(i)\n",
    "        i+=1\n",
    "        count_500+=1\n",
    "        \n",
    "objectIds = objectIds[1:]\n",
    "request = \"https://nces.ed.gov/opengis/rest/services/K12_School_Locations/EDGE_GEOCODE_PUBLICSCH_1920/MapServer/0/query?objectIds=\"\n",
    "request += objectIds\n",
    "request += \"&returnGeometry=false&outFields=NAME,LOCALE,LAT,LON&f=json\"\n",
    "response = reqs.get(request)\n",
    "for x in response.json()['features']:\n",
    "    results_list.append(x['attributes'])\n",
    "\n",
    "    \n",
    "\n",
    "\n",
    "df2 = pd.DataFrame.from_dict(results_list)\n",
    "print(df2)"
   ]
  },
  {
   "cell_type": "code",
   "execution_count": 142,
   "id": "f95f18ca-44aa-4b8e-a843-17be266be5d8",
   "metadata": {},
   "outputs": [],
   "source": [
    "df2.to_csv(\"school_geo_data.csv\",index=False)"
   ]
  },
  {
   "cell_type": "code",
   "execution_count": 192,
   "id": "34246c00-7f50-492a-952e-a38b18bf3862",
   "metadata": {},
   "outputs": [
    {
     "ename": "SyntaxError",
     "evalue": "invalid syntax (Temp/ipykernel_35504/2800208002.py, line 5)",
     "output_type": "error",
     "traceback": [
      "\u001b[1;36m  File \u001b[1;32m\"C:\\Users\\nlevi\\AppData\\Local\\Temp/ipykernel_35504/2800208002.py\"\u001b[1;36m, line \u001b[1;32m5\u001b[0m\n\u001b[1;33m    df = df.drop(['STNAM','Name'] axis=1)\u001b[0m\n\u001b[1;37m                                     ^\u001b[0m\n\u001b[1;31mSyntaxError\u001b[0m\u001b[1;31m:\u001b[0m invalid syntax\n"
     ]
    }
   ],
   "source": [
    "#Replace state names with abbreviations\n",
    "df['STNAM'] = df['STNAM'].str.lower()\n",
    "state_df['Name'] = state_df['Name'].str.lower()\n",
    "df = pd.merge(df,state_df, left_on='STNAM', right_on='Name')\n"
   ]
  },
  {
   "cell_type": "code",
   "execution_count": 193,
   "id": "1d10d9b9-da1a-45f9-9799-67f198ac1f43",
   "metadata": {},
   "outputs": [
    {
     "data": {
      "text/html": [
       "<div>\n",
       "<style scoped>\n",
       "    .dataframe tbody tr th:only-of-type {\n",
       "        vertical-align: middle;\n",
       "    }\n",
       "\n",
       "    .dataframe tbody tr th {\n",
       "        vertical-align: top;\n",
       "    }\n",
       "\n",
       "    .dataframe thead th {\n",
       "        text-align: right;\n",
       "    }\n",
       "</style>\n",
       "<table border=\"1\" class=\"dataframe\">\n",
       "  <thead>\n",
       "    <tr style=\"text-align: right;\">\n",
       "      <th></th>\n",
       "      <th>LEAID</th>\n",
       "      <th>SCHNAM</th>\n",
       "      <th>ALL_RATE_1819</th>\n",
       "      <th>Abbreviation</th>\n",
       "    </tr>\n",
       "  </thead>\n",
       "  <tbody>\n",
       "    <tr>\n",
       "      <th>0</th>\n",
       "      <td>100005</td>\n",
       "      <td>Albertville High School</td>\n",
       "      <td>94</td>\n",
       "      <td>AL</td>\n",
       "    </tr>\n",
       "    <tr>\n",
       "      <th>1</th>\n",
       "      <td>100006</td>\n",
       "      <td>Asbury High School</td>\n",
       "      <td>90</td>\n",
       "      <td>AL</td>\n",
       "    </tr>\n",
       "    <tr>\n",
       "      <th>2</th>\n",
       "      <td>100006</td>\n",
       "      <td>Douglas High School</td>\n",
       "      <td>90</td>\n",
       "      <td>AL</td>\n",
       "    </tr>\n",
       "    <tr>\n",
       "      <th>3</th>\n",
       "      <td>100006</td>\n",
       "      <td>Kate D Smith DAR High School</td>\n",
       "      <td>95</td>\n",
       "      <td>AL</td>\n",
       "    </tr>\n",
       "    <tr>\n",
       "      <th>4</th>\n",
       "      <td>100006</td>\n",
       "      <td>Brindlee Mountain High School</td>\n",
       "      <td>85</td>\n",
       "      <td>AL</td>\n",
       "    </tr>\n",
       "  </tbody>\n",
       "</table>\n",
       "</div>"
      ],
      "text/plain": [
       "    LEAID                         SCHNAM ALL_RATE_1819 Abbreviation\n",
       "0  100005        Albertville High School            94           AL\n",
       "1  100006             Asbury High School            90           AL\n",
       "2  100006            Douglas High School            90           AL\n",
       "3  100006   Kate D Smith DAR High School            95           AL\n",
       "4  100006  Brindlee Mountain High School            85           AL"
      ]
     },
     "execution_count": 193,
     "metadata": {},
     "output_type": "execute_result"
    }
   ],
   "source": [
    "df = df.drop(['STNAM','Name'], axis=1)\n",
    "df.head()"
   ]
  },
  {
   "cell_type": "code",
   "execution_count": 221,
   "id": "492bedf2-7b48-4c02-b721-38d5f3e8f487",
   "metadata": {},
   "outputs": [],
   "source": [
    "df3 = pd.merge(df,df2,left_on=[\"SCHNAM\",\"Abbreviation\"],right_on=[\"NAME\",\"STATE\"])\n",
    "df3[\"Grad_Rate\"] = df3[\"ALL_RATE_1819\"].astype('int32')"
   ]
  },
  {
   "cell_type": "code",
   "execution_count": 222,
   "id": "9eec2d51-4e82-46ac-a1a7-b05b388167c7",
   "metadata": {},
   "outputs": [],
   "source": [
    "fig = px.scatter_geo(df3,lat=\"LAT\",lon=\"LON\", color=\"Grad_Rate\", hover_name=\"SCHNAM\", color_continuous_scale=\"inferno\",scope='usa', width = 1200, height=800)"
   ]
  },
  {
   "cell_type": "code",
   "execution_count": 223,
   "id": "248d5c03-9f9d-4c21-8f8b-67794774d4f2",
   "metadata": {},
   "outputs": [
    {
     "name": "stdout",
     "output_type": "stream",
     "text": [
      "Dash is running on http://127.0.0.1:8050/\n",
      "\n",
      "Dash is running on http://127.0.0.1:8050/\n",
      "\n",
      "Dash is running on http://127.0.0.1:8050/\n",
      "\n",
      "Dash is running on http://127.0.0.1:8050/\n",
      "\n",
      "Dash is running on http://127.0.0.1:8050/\n",
      "\n",
      "Dash is running on http://127.0.0.1:8050/\n",
      "\n",
      "Dash is running on http://127.0.0.1:8050/\n",
      "\n",
      "Dash is running on http://127.0.0.1:8050/\n",
      "\n",
      "Dash is running on http://127.0.0.1:8050/\n",
      "\n",
      " * Serving Flask app \"__main__\" (lazy loading)\n",
      " * Environment: production\n",
      "\u001b[31m   WARNING: This is a development server. Do not use it in a production deployment.\u001b[0m\n",
      "\u001b[2m   Use a production WSGI server instead.\u001b[0m\n",
      " * Debug mode: on\n"
     ]
    }
   ],
   "source": [
    "import plotly.graph_objects as go # or plotly.express as px\n",
    "#fig = go.Figure() # or any Plotly Express function e.g. px.bar(...)\n",
    "# fig.add_trace( ... )\n",
    "# fig.update_layout( ... )\n",
    "\n",
    "import dash\n",
    "import dash_core_components as dcc\n",
    "import dash_html_components as html\n",
    "\n",
    "app = dash.Dash()\n",
    "app.layout = html.Div([\n",
    "    dcc.Graph(figure=fig)\n",
    "])\n",
    "\n",
    "app.run_server(debug=True, use_reloader=False)"
   ]
  },
  {
   "cell_type": "code",
   "execution_count": null,
   "id": "9aa65d7d-54d0-405d-9364-c6fd383a5d22",
   "metadata": {},
   "outputs": [],
   "source": []
  }
 ],
 "metadata": {
  "kernelspec": {
   "display_name": "Python 3 (ipykernel)",
   "language": "python",
   "name": "python3"
  },
  "language_info": {
   "codemirror_mode": {
    "name": "ipython",
    "version": 3
   },
   "file_extension": ".py",
   "mimetype": "text/x-python",
   "name": "python",
   "nbconvert_exporter": "python",
   "pygments_lexer": "ipython3",
   "version": "3.7.11"
  }
 },
 "nbformat": 4,
 "nbformat_minor": 5
}
