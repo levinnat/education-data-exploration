{
 "cells": [
  {
   "cell_type": "code",
   "execution_count": null,
   "id": "18c9e7df-be15-4426-9beb-5cc4ede2a0c8",
   "metadata": {},
   "outputs": [],
   "source": []
  },
  {
   "cell_type": "markdown",
   "id": "a80fd2ea-488d-444b-a89d-355a2aad5653",
   "metadata": {},
   "source": [
    "# Graduation Rate Data Exploration\n",
    "In this notebook we look at elementary/secondary school data from the United States to hopefully shed some light on the challenges facing schools and school districts around the country. We are going to work through the entire data modeling pipeline from data acquisition -> data wrangling -> data exploration -> visualization -> modeling\n",
    "\n",
    "### Questions\n",
    "1. Where are schools struggling the most with low graduation rates?\n",
    "2. Are these schools clustered in particular regions?\n",
    "3. What demographic factors are correlated with low graduation rates?\n",
    "4. Can we predict graduation rate and thereby reverse engineer some of the factors influencing graduation rates?\n",
    "\n",
    "### Datasets\n",
    "- <a href=https://nces.ed.gov/opengis/rest/services/K12_School_Locations/EDGE_GEOCODE_PUBLICSCH_1819/MapServer> Public School Locations </a>\n",
    "- <a href=https://www2.ed.gov/about/inits/ed/edfacts/data-files/index.html#acgr> Graduation Rates </a> \n",
    "- <a href=https://data-nces.opendata.arcgis.com/datasets/nces::public-school-characteristics-2018-19/about> Demographics </a> \n",
    "\n",
    "### Skills In This Notebook\n",
    "- REST queries\n",
    "- Data Exploration\n",
    "- Data Visualization\n",
    "- Modeling/Prediction"
   ]
  },
  {
   "cell_type": "markdown",
   "id": "4e5fc1f9-7309-49ce-a209-80b960eae1a2",
   "metadata": {
    "jp-MarkdownHeadingCollapsed": true,
    "tags": []
   },
   "source": [
    "***\n",
    "## Imports\n",
    "<code> pandas </code> data manipulation <br>\n",
    "<code> plotly </code>   visualizations <br>\n",
    "<code> requests </code>  manage our data scraping <br>\n",
    "<code> dash </code>    interactive visualizations <br>\n",
    "<code> scikitlearn </code> modeling and prediction"
   ]
  },
  {
   "cell_type": "code",
   "execution_count": 3,
   "id": "c5fa8350-eda7-4dc6-86c7-30d39a49e83d",
   "metadata": {},
   "outputs": [],
   "source": [
    "import pandas as pd\n",
    "import plotly as plotly\n",
    "import requests as reqs\n",
    "import time\n",
    "import plotly.graph_objects as go\n",
    "import dash\n",
    "import dash_core_components as dcc\n",
    "import dash_html_components as html\n",
    "import sklearn\n",
    "import plotly.express as px\n",
    "from requests.exceptions import HTTPError\n",
    "from dash.dependencies import Input, Output"
   ]
  },
  {
   "cell_type": "markdown",
   "id": "8319ce8a-a771-4049-8dc1-43e8867ef0a1",
   "metadata": {
    "jp-MarkdownHeadingCollapsed": true,
    "tags": []
   },
   "source": [
    "## Utility Functions\n",
    "#### <code>reformat_grades(rate)</code>\n",
    "removes non-numeric characters from our grades data"
   ]
  },
  {
   "cell_type": "code",
   "execution_count": 4,
   "id": "b961a886-6c08-434b-8f9c-8c39bc0cb549",
   "metadata": {},
   "outputs": [],
   "source": [
    "def reformat_grades(rate):\n",
    "    if(rate.startswith('LE') or rate.startswith('LT') or rate.startswith('GE')):\n",
    "        return rate[2:]\n",
    "    if('-' in rate):\n",
    "        return rate[0:rate.index('-')]\n",
    "    return rate"
   ]
  },
  {
   "cell_type": "markdown",
   "id": "f59d7d61-b929-404b-9d96-94cf4e4ca24e",
   "metadata": {
    "tags": []
   },
   "source": [
    "## Data Files\n",
    "<b> df_grad_rates </b> adjusted cohort graduation rates <br>\n",
    "<b> df_locations </b> latitude and longitude for schools <br>\n",
    "<b> df_state_abbrevs </b> mapping between state names and two letter abbreviations <br>\n",
    "<b> df_demographics </b> school demographic and other characteristic data <br>"
   ]
  },
  {
   "cell_type": "code",
   "execution_count": null,
   "id": "2e56fc5b-72fd-4392-9270-587d5b030d64",
   "metadata": {},
   "outputs": [],
   "source": [
    "df_grad_rates = pd.read_csv(\"../Data/18_19_Graduation_Rates.csv\")\n",
    "df_locations = pd.read_csv(\"../Data/school_geo_data.csv\")\n",
    "df_state_abbrevs = pd.read_csv(\"../Data/state_mapping.csv\")\n",
    "df_demographics = pd.read_csv(\"../Data/Public_School_Characteristics_2018-19.csv\")"
   ]
  },
  {
   "cell_type": "markdown",
   "id": "85294c4f-8b8b-45d8-b56b-c39df5490dd0",
   "metadata": {},
   "source": []
  },
  {
   "cell_type": "code",
   "execution_count": 2,
   "id": "ee1c14f6-d452-47bb-8b70-fd8a69ede392",
   "metadata": {},
   "outputs": [],
   "source": []
  },
  {
   "cell_type": "code",
   "execution_count": 3,
   "id": "509a0bdd-37a1-42d2-8e9d-118ace1396ba",
   "metadata": {},
   "outputs": [],
   "source": [
    "df_grad_rates = df_grad_rates[['STNAM','LEAID','SCHNAM','ALL_RATE_1819']] #only need state name, school district, school name, and graduation rate for now\n",
    "df_grad_rates = df_grad_rates[df_grad_rates.ALL_RATE_1819 != 'PS'] #drop all rows for schools where data was protected"
   ]
  },
  {
   "cell_type": "code",
   "execution_count": 4,
   "id": "b907909a-09a1-4882-ad4b-0de0bed10350",
   "metadata": {},
   "outputs": [],
   "source": [
    "df_grad_rates['ALL_RATE_1819'] = df_grad_rates['ALL_RATE_1819'].apply(reformat_grades) #remove letters and symbols from graduation rates"
   ]
  },
  {
   "cell_type": "code",
   "execution_count": 5,
   "id": "34246c00-7f50-492a-952e-a38b18bf3862",
   "metadata": {},
   "outputs": [],
   "source": [
    "#Replace state names with abbreviations\n",
    "df_grad_rates['STNAM'] = df_grad_rates['STNAM'].str.lower()\n",
    "df_state_abbrevs['Name'] = df_state_abbrevs['Name'].str.lower()\n",
    "df_grad_rates = pd.merge(df_grad_rates,df_state_abbrevs, left_on='STNAM', right_on='Name')"
   ]
  },
  {
   "cell_type": "code",
   "execution_count": 6,
   "id": "1d10d9b9-da1a-45f9-9799-67f198ac1f43",
   "metadata": {},
   "outputs": [
    {
     "data": {
      "text/html": [
       "<div>\n",
       "<style scoped>\n",
       "    .dataframe tbody tr th:only-of-type {\n",
       "        vertical-align: middle;\n",
       "    }\n",
       "\n",
       "    .dataframe tbody tr th {\n",
       "        vertical-align: top;\n",
       "    }\n",
       "\n",
       "    .dataframe thead th {\n",
       "        text-align: right;\n",
       "    }\n",
       "</style>\n",
       "<table border=\"1\" class=\"dataframe\">\n",
       "  <thead>\n",
       "    <tr style=\"text-align: right;\">\n",
       "      <th></th>\n",
       "      <th>LEAID</th>\n",
       "      <th>SCHNAM</th>\n",
       "      <th>ALL_RATE_1819</th>\n",
       "      <th>Abbreviation</th>\n",
       "    </tr>\n",
       "  </thead>\n",
       "  <tbody>\n",
       "    <tr>\n",
       "      <th>0</th>\n",
       "      <td>100005</td>\n",
       "      <td>Albertville High School</td>\n",
       "      <td>94</td>\n",
       "      <td>AL</td>\n",
       "    </tr>\n",
       "    <tr>\n",
       "      <th>1</th>\n",
       "      <td>100006</td>\n",
       "      <td>Asbury High School</td>\n",
       "      <td>90</td>\n",
       "      <td>AL</td>\n",
       "    </tr>\n",
       "    <tr>\n",
       "      <th>2</th>\n",
       "      <td>100006</td>\n",
       "      <td>Douglas High School</td>\n",
       "      <td>90</td>\n",
       "      <td>AL</td>\n",
       "    </tr>\n",
       "    <tr>\n",
       "      <th>3</th>\n",
       "      <td>100006</td>\n",
       "      <td>Kate D Smith DAR High School</td>\n",
       "      <td>95</td>\n",
       "      <td>AL</td>\n",
       "    </tr>\n",
       "    <tr>\n",
       "      <th>4</th>\n",
       "      <td>100006</td>\n",
       "      <td>Brindlee Mountain High School</td>\n",
       "      <td>85</td>\n",
       "      <td>AL</td>\n",
       "    </tr>\n",
       "  </tbody>\n",
       "</table>\n",
       "</div>"
      ],
      "text/plain": [
       "    LEAID                         SCHNAM ALL_RATE_1819 Abbreviation\n",
       "0  100005        Albertville High School            94           AL\n",
       "1  100006             Asbury High School            90           AL\n",
       "2  100006            Douglas High School            90           AL\n",
       "3  100006   Kate D Smith DAR High School            95           AL\n",
       "4  100006  Brindlee Mountain High School            85           AL"
      ]
     },
     "execution_count": 6,
     "metadata": {},
     "output_type": "execute_result"
    }
   ],
   "source": [
    "#drop redundant columns after merge\n",
    "df_grad_rates = df_grad_rates.drop(['STNAM','Name'], axis=1)\n",
    "df_grad_rates.head()"
   ]
  },
  {
   "cell_type": "code",
   "execution_count": 7,
   "id": "492bedf2-7b48-4c02-b721-38d5f3e8f487",
   "metadata": {},
   "outputs": [],
   "source": [
    "df_plot = pd.merge(df_grad_rates,df_locations,left_on=[\"SCHNAM\",\"Abbreviation\"],right_on=[\"NAME\",\"STATE\"])\n",
    "df_plot[\"Grad_Rate\"] = df_plot[\"ALL_RATE_1819\"].astype('int32')"
   ]
  },
  {
   "cell_type": "code",
   "execution_count": 8,
   "id": "9eec2d51-4e82-46ac-a1a7-b05b388167c7",
   "metadata": {},
   "outputs": [],
   "source": [
    "fig = px.scatter_geo(df_plot,lat=\"LAT\",lon=\"LON\", color=\"Grad_Rate\", hover_name=\"SCHNAM\", color_continuous_scale=\"inferno\",scope='usa', width = 1200, height=800)"
   ]
  },
  {
   "cell_type": "code",
   "execution_count": null,
   "id": "248d5c03-9f9d-4c21-8f8b-67794774d4f2",
   "metadata": {},
   "outputs": [
    {
     "name": "stdout",
     "output_type": "stream",
     "text": [
      "Dash is running on http://127.0.0.1:8050/\n",
      "\n",
      " * Serving Flask app \"__main__\" (lazy loading)\n",
      " * Environment: production\n",
      "\u001b[31m   WARNING: This is a development server. Do not use it in a production deployment.\u001b[0m\n",
      "\u001b[2m   Use a production WSGI server instead.\u001b[0m\n",
      " * Debug mode: on\n"
     ]
    }
   ],
   "source": [
    "\n",
    "\n",
    "app = dash.Dash()\n",
    "app.layout = html.Div([\n",
    "html.P(\"Filter by Graduation Rate\"),\n",
    "dcc.Slider(min=0, max=100,value=50,id=\"filter_slide\",tooltip={\"placement\": \"bottom\", \"always_visible\": True}),\n",
    "dcc.Graph(id=\"main_chart\")\n",
    "])\n",
    "\n",
    "@app.callback(\n",
    "    Output('main_chart', 'figure'),\n",
    "    Input('filter_slide', 'value'))\n",
    "def update_output(value):\n",
    "    df = df_plot[df_plot.Grad_Rate < value]\n",
    "    fig = px.scatter_geo(df,lat=\"LAT\",lon=\"LON\", color=\"Grad_Rate\", hover_name=\"SCHNAM\", color_continuous_scale=\"inferno\",scope='usa',title=\"Graduation Rate By School\", width = 1200, height=800)\n",
    "    return fig\n",
    "\n",
    "app.run_server(debug=True, use_reloader=False)"
   ]
  },
  {
   "cell_type": "code",
   "execution_count": null,
   "id": "9aa65d7d-54d0-405d-9364-c6fd383a5d22",
   "metadata": {},
   "outputs": [],
   "source": []
  }
 ],
 "metadata": {
  "kernelspec": {
   "display_name": "Python 3 (ipykernel)",
   "language": "python",
   "name": "python3"
  },
  "language_info": {
   "codemirror_mode": {
    "name": "ipython",
    "version": 3
   },
   "file_extension": ".py",
   "mimetype": "text/x-python",
   "name": "python",
   "nbconvert_exporter": "python",
   "pygments_lexer": "ipython3",
   "version": "3.7.11"
  }
 },
 "nbformat": 4,
 "nbformat_minor": 5
}
