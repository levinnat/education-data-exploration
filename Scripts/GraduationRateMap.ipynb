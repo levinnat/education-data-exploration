{
 "cells": [
  {
   "cell_type": "code",
   "execution_count": null,
   "id": "ee64b254-f18d-4291-977b-939361165efb",
   "metadata": {},
   "outputs": [],
   "source": [
    "import pandas as pd\n",
    "import plotly.express as px\n",
    "import plotly as plotly\n",
    "\n",
    "def reformat_grades(rate):\n",
    "    if(rate.startswith('LE') or rate.startswith('LT') or rate.startswith('GE')):\n",
    "        return rate[2:]\n",
    "    if('-' in rate):\n",
    "        return rate[0:rate.index('-')]\n",
    "    return rate"
   ]
  },
  {
   "cell_type": "code",
   "execution_count": null,
   "id": "ee1c14f6-d452-47bb-8b70-fd8a69ede392",
   "metadata": {},
   "outputs": [],
   "source": [
    "df_grad_rates = pd.read_csv(\"../Data/18_19_Graduation_Rates.csv\")\n",
    "df_locations = pd.read_csv(\"../Data/school_geo_data.csv\")\n",
    "df_state_abbrevs = pd.read_csv(\"../Data/state_mapping.csv\")"
   ]
  },
  {
   "cell_type": "code",
   "execution_count": null,
   "id": "509a0bdd-37a1-42d2-8e9d-118ace1396ba",
   "metadata": {},
   "outputs": [],
   "source": [
    "df_grad_rates = df_grad_rates[['STNAM','LEAID','SCHNAM','ALL_RATE_1819']] #only need state name, school district, school name, and graduation rate for now\n",
    "df_grad_rates = df_grad_rates[df_grad_rates.ALL_RATE_1819 != 'PS'] #drop all rows for schools where data was protected"
   ]
  },
  {
   "cell_type": "code",
   "execution_count": null,
   "id": "b907909a-09a1-4882-ad4b-0de0bed10350",
   "metadata": {},
   "outputs": [],
   "source": [
    "df_grad_rates['ALL_RATE_1819'] = df_grad_rates['ALL_RATE_1819'].apply(reformat_grades) #remove letters and symbols from graduation rates"
   ]
  },
  {
   "cell_type": "code",
   "execution_count": null,
   "id": "34246c00-7f50-492a-952e-a38b18bf3862",
   "metadata": {},
   "outputs": [],
   "source": [
    "#Replace state names with abbreviations\n",
    "df_grad_rates['STNAM'] = df_grad_rates['STNAM'].str.lower()\n",
    "df_state_abbrevs['Name'] = df_state_abbrevs['Name'].str.lower()\n",
    "df_grad_rates = pd.merge(df_grad_rates,df_state_abbrevs, left_on='STNAM', right_on='Name')"
   ]
  },
  {
   "cell_type": "code",
   "execution_count": null,
   "id": "1d10d9b9-da1a-45f9-9799-67f198ac1f43",
   "metadata": {},
   "outputs": [],
   "source": [
    "#drop redundant columns after merge\n",
    "df_grad_rates = df_grad_rates.drop(['STNAM','Name'], axis=1)\n",
    "df_grad_rates.head()"
   ]
  },
  {
   "cell_type": "code",
   "execution_count": null,
   "id": "492bedf2-7b48-4c02-b721-38d5f3e8f487",
   "metadata": {},
   "outputs": [],
   "source": [
    "df_plot = pd.merge(df_grad_rates,df_locations,left_on=[\"SCHNAM\",\"Abbreviation\"],right_on=[\"NAME\",\"STATE\"])\n",
    "df_plot[\"Grad_Rate\"] = df_plot[\"ALL_RATE_1819\"].astype('int32')"
   ]
  },
  {
   "cell_type": "code",
   "execution_count": null,
   "id": "9eec2d51-4e82-46ac-a1a7-b05b388167c7",
   "metadata": {},
   "outputs": [],
   "source": [
    "fig = px.scatter_geo(df_plot,lat=\"LAT\",lon=\"LON\", color=\"Grad_Rate\", hover_name=\"SCHNAM\", color_continuous_scale=\"inferno\",scope='usa', width = 1200, height=800)"
   ]
  },
  {
   "cell_type": "code",
   "execution_count": null,
   "id": "248d5c03-9f9d-4c21-8f8b-67794774d4f2",
   "metadata": {},
   "outputs": [],
   "source": [
    "import plotly.graph_objects as go # or plotly.express as px\n",
    "#fig = go.Figure() # or any Plotly Express function e.g. px.bar(...)\n",
    "# fig.add_trace( ... )\n",
    "# fig.update_layout( ... )\n",
    "import dash\n",
    "import dash_core_components as dcc\n",
    "import dash_html_components as html\n",
    "from dash.dependencies import Input, Output\n",
    "\n",
    "app = dash.Dash()\n",
    "app.layout = html.Div([\n",
    "html.P(\"Filter by Graduation Rate\"),\n",
    "dcc.Slider(min=0, max=100,value=50,id=\"filter_slide\",tooltip={\"placement\": \"bottom\", \"always_visible\": True}),\n",
    "dcc.Graph(id=\"main_chart\")\n",
    "])\n",
    "\n",
    "@app.callback(\n",
    "    Output('main_chart', 'figure'),\n",
    "    Input('filter_slide', 'value'))\n",
    "def update_output(value):\n",
    "    df = df_plot[df_plot.Grad_Rate < value]\n",
    "    fig = px.scatter_geo(df,lat=\"LAT\",lon=\"LON\", color=\"Grad_Rate\", hover_name=\"SCHNAM\", color_continuous_scale=\"inferno\",scope='usa',title=\"Graduation Rate By School\", width = 1200, height=800)\n",
    "    return fig\n",
    "\n",
    "app.run_server(debug=True, use_reloader=False)"
   ]
  },
  {
   "cell_type": "code",
   "execution_count": null,
   "id": "9aa65d7d-54d0-405d-9364-c6fd383a5d22",
   "metadata": {},
   "outputs": [],
   "source": []
  }
 ],
 "metadata": {
  "kernelspec": {
   "display_name": "Python 3 (ipykernel)",
   "language": "python",
   "name": "python3"
  },
  "language_info": {
   "codemirror_mode": {
    "name": "ipython",
    "version": 3
   },
   "file_extension": ".py",
   "mimetype": "text/x-python",
   "name": "python",
   "nbconvert_exporter": "python",
   "pygments_lexer": "ipython3",
   "version": "3.7.11"
  }
 },
 "nbformat": 4,
 "nbformat_minor": 5
}
