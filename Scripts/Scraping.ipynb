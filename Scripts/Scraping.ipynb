{
 "cells": [
  {
   "cell_type": "code",
   "execution_count": null,
   "id": "41a7b44c-3597-4c3b-bff2-c2d4b8f516eb",
   "metadata": {},
   "outputs": [],
   "source": [
    "import requests as reqs\n",
    "import pandas as pd"
   ]
  },
  {
   "cell_type": "code",
   "execution_count": null,
   "id": "9a020754-fc13-4b10-b725-7f2ee3f2fef7",
   "metadata": {},
   "outputs": [],
   "source": [
    "response = reqs.get(\"https://nces.ed.gov/opengis/rest/services/K12_School_Locations/EDGE_GEOCODE_PUBLICSCH_1819/MapServer/0/query?where=STATE='WY'&returnGeometry=false&returnIdsOnly=true&outFields=NAME,LOCALE,LAT,LON&f=json\")\n",
    "print(response.json())"
   ]
  },
  {
   "cell_type": "code",
   "execution_count": null,
   "id": "25867cae-47eb-4fa9-8f06-ea0eaca9e6ac",
   "metadata": {},
   "outputs": [],
   "source": [
    "#100901 - last objectID\n",
    "i = 1\n",
    "count_200 = 0\n",
    "objectIds = \"\"\n",
    "results_list = [];\n",
    "while (i<100901):\n",
    "    if(count_200 == 200):\n",
    "        objectIds = objectIds[1:]\n",
    "        request = \"https://nces.ed.gov/opengis/rest/services/K12_School_Locations/EDGE_GEOCODE_PUBLICSCH_1819/MapServer/0/query?objectIds=\"\n",
    "        request += objectIds\n",
    "        request += \"&returnGeometry=false&outFields=NAME,STATE,LAT,LON&f=json\"\n",
    "        response = reqs.get(request)\n",
    "        for x in response.json()['features']:\n",
    "            results_list.append(x['attributes'])\n",
    "        objectIds = \"\"\n",
    "        count_200 = 0\n",
    "    else:\n",
    "        objectIds = objectIds + \",\" +str(i)\n",
    "        i+=1\n",
    "        count_200+=1\n",
    "        \n",
    "objectIds = objectIds[1:]\n",
    "request = \"https://nces.ed.gov/opengis/rest/services/K12_School_Locations/EDGE_GEOCODE_PUBLICSCH_1920/MapServer/0/query?objectIds=\"\n",
    "request += objectIds\n",
    "request += \"&returnGeometry=false&outFields=NAME,LOCALE,LAT,LON&f=json\"\n",
    "response = reqs.get(request)\n",
    "for x in response.json()['features']:\n",
    "    results_list.append(x['attributes'])\n",
    "\n",
    "    \n",
    "\n",
    "\n",
    "df = pd.DataFrame.from_dict(results_list)"
   ]
  },
  {
   "cell_type": "code",
   "execution_count": null,
   "id": "f66ede28-9c5a-4da1-b5e7-0c801fa866e3",
   "metadata": {},
   "outputs": [],
   "source": [
    "df.to_csv(\"../Data/school_geo_data.csv\",index=False)"
   ]
  }
 ],
 "metadata": {
  "kernelspec": {
   "display_name": "Python 3 (ipykernel)",
   "language": "python",
   "name": "python3"
  },
  "language_info": {
   "codemirror_mode": {
    "name": "ipython",
    "version": 3
   },
   "file_extension": ".py",
   "mimetype": "text/x-python",
   "name": "python",
   "nbconvert_exporter": "python",
   "pygments_lexer": "ipython3",
   "version": "3.7.11"
  }
 },
 "nbformat": 4,
 "nbformat_minor": 5
}
